{
  "cells": [
    {
      "cell_type": "markdown",
      "metadata": {
        "id": "LZmo8eUPVIJ3"
      },
      "source": [
        "<a href=\"https://colab.research.google.com/github/fralfaro/MAT281_2023/blob/main/docs/labs/lab_031.ipynb\" target=\"_parent\"><img src=\"https://colab.research.google.com/assets/colab-badge.svg\" alt=\"Open In Colab\"/></a>\n",
        "\n",
        "\n",
        "# MAT281 - Laboratorio N°03\n",
        "\n",
        "\n"
      ]
    },
    {
      "cell_type": "markdown",
      "metadata": {
        "id": "7pxui5USVIKE"
      },
      "source": [
        "## Problema 01\n",
        "\n",
        "\n",
        "<img src=\"https://imagenes.universia.net/gc/net/images/practicas-empleo/p/pr/pro/profesiones-con-el-avance-de-la-tecnologia.jpg\" width=\"480\" height=\"360\" align=\"center\"/>\n",
        "\n",
        "\n",
        "EL conjunto de datos se denomina `ocupation.csv`, el cual contiene información de distintos usuarios (edad ,sexo, profesión, etc.).\n",
        "\n",
        "Lo primero es cargar el conjunto de datos y ver las primeras filas que lo componen:"
      ]
    },
    {
      "cell_type": "code",
      "execution_count": null,
      "metadata": {
        "id": "roQhjMebVIKG"
      },
      "outputs": [],
      "source": [
        "import pandas as pd"
      ]
    },
    {
      "cell_type": "code",
      "execution_count": null,
      "metadata": {
        "id": "nbXZqGA9VIKL",
        "outputId": "0e9fe0bf-f183-4358-b83c-e4afcd375630",
        "colab": {
          "base_uri": "https://localhost:8080/",
          "height": 206
        }
      },
      "outputs": [
        {
          "output_type": "execute_result",
          "data": {
            "text/plain": [
              "   user_id  age gender  occupation zip_code\n",
              "0        1   24      M  technician    85711\n",
              "1        2   53      F       other    94043\n",
              "2        3   23      M      writer    32067\n",
              "3        4   24      M  technician    43537\n",
              "4        5   33      F       other    15213"
            ],
            "text/html": [
              "\n",
              "  <div id=\"df-70cca5ce-7f64-442f-b3ce-26e875efeaec\" class=\"colab-df-container\">\n",
              "    <div>\n",
              "<style scoped>\n",
              "    .dataframe tbody tr th:only-of-type {\n",
              "        vertical-align: middle;\n",
              "    }\n",
              "\n",
              "    .dataframe tbody tr th {\n",
              "        vertical-align: top;\n",
              "    }\n",
              "\n",
              "    .dataframe thead th {\n",
              "        text-align: right;\n",
              "    }\n",
              "</style>\n",
              "<table border=\"1\" class=\"dataframe\">\n",
              "  <thead>\n",
              "    <tr style=\"text-align: right;\">\n",
              "      <th></th>\n",
              "      <th>user_id</th>\n",
              "      <th>age</th>\n",
              "      <th>gender</th>\n",
              "      <th>occupation</th>\n",
              "      <th>zip_code</th>\n",
              "    </tr>\n",
              "  </thead>\n",
              "  <tbody>\n",
              "    <tr>\n",
              "      <th>0</th>\n",
              "      <td>1</td>\n",
              "      <td>24</td>\n",
              "      <td>M</td>\n",
              "      <td>technician</td>\n",
              "      <td>85711</td>\n",
              "    </tr>\n",
              "    <tr>\n",
              "      <th>1</th>\n",
              "      <td>2</td>\n",
              "      <td>53</td>\n",
              "      <td>F</td>\n",
              "      <td>other</td>\n",
              "      <td>94043</td>\n",
              "    </tr>\n",
              "    <tr>\n",
              "      <th>2</th>\n",
              "      <td>3</td>\n",
              "      <td>23</td>\n",
              "      <td>M</td>\n",
              "      <td>writer</td>\n",
              "      <td>32067</td>\n",
              "    </tr>\n",
              "    <tr>\n",
              "      <th>3</th>\n",
              "      <td>4</td>\n",
              "      <td>24</td>\n",
              "      <td>M</td>\n",
              "      <td>technician</td>\n",
              "      <td>43537</td>\n",
              "    </tr>\n",
              "    <tr>\n",
              "      <th>4</th>\n",
              "      <td>5</td>\n",
              "      <td>33</td>\n",
              "      <td>F</td>\n",
              "      <td>other</td>\n",
              "      <td>15213</td>\n",
              "    </tr>\n",
              "  </tbody>\n",
              "</table>\n",
              "</div>\n",
              "    <div class=\"colab-df-buttons\">\n",
              "\n",
              "  <div class=\"colab-df-container\">\n",
              "    <button class=\"colab-df-convert\" onclick=\"convertToInteractive('df-70cca5ce-7f64-442f-b3ce-26e875efeaec')\"\n",
              "            title=\"Convert this dataframe to an interactive table.\"\n",
              "            style=\"display:none;\">\n",
              "\n",
              "  <svg xmlns=\"http://www.w3.org/2000/svg\" height=\"24px\" viewBox=\"0 -960 960 960\">\n",
              "    <path d=\"M120-120v-720h720v720H120Zm60-500h600v-160H180v160Zm220 220h160v-160H400v160Zm0 220h160v-160H400v160ZM180-400h160v-160H180v160Zm440 0h160v-160H620v160ZM180-180h160v-160H180v160Zm440 0h160v-160H620v160Z\"/>\n",
              "  </svg>\n",
              "    </button>\n",
              "\n",
              "  <style>\n",
              "    .colab-df-container {\n",
              "      display:flex;\n",
              "      gap: 12px;\n",
              "    }\n",
              "\n",
              "    .colab-df-convert {\n",
              "      background-color: #E8F0FE;\n",
              "      border: none;\n",
              "      border-radius: 50%;\n",
              "      cursor: pointer;\n",
              "      display: none;\n",
              "      fill: #1967D2;\n",
              "      height: 32px;\n",
              "      padding: 0 0 0 0;\n",
              "      width: 32px;\n",
              "    }\n",
              "\n",
              "    .colab-df-convert:hover {\n",
              "      background-color: #E2EBFA;\n",
              "      box-shadow: 0px 1px 2px rgba(60, 64, 67, 0.3), 0px 1px 3px 1px rgba(60, 64, 67, 0.15);\n",
              "      fill: #174EA6;\n",
              "    }\n",
              "\n",
              "    .colab-df-buttons div {\n",
              "      margin-bottom: 4px;\n",
              "    }\n",
              "\n",
              "    [theme=dark] .colab-df-convert {\n",
              "      background-color: #3B4455;\n",
              "      fill: #D2E3FC;\n",
              "    }\n",
              "\n",
              "    [theme=dark] .colab-df-convert:hover {\n",
              "      background-color: #434B5C;\n",
              "      box-shadow: 0px 1px 3px 1px rgba(0, 0, 0, 0.15);\n",
              "      filter: drop-shadow(0px 1px 2px rgba(0, 0, 0, 0.3));\n",
              "      fill: #FFFFFF;\n",
              "    }\n",
              "  </style>\n",
              "\n",
              "    <script>\n",
              "      const buttonEl =\n",
              "        document.querySelector('#df-70cca5ce-7f64-442f-b3ce-26e875efeaec button.colab-df-convert');\n",
              "      buttonEl.style.display =\n",
              "        google.colab.kernel.accessAllowed ? 'block' : 'none';\n",
              "\n",
              "      async function convertToInteractive(key) {\n",
              "        const element = document.querySelector('#df-70cca5ce-7f64-442f-b3ce-26e875efeaec');\n",
              "        const dataTable =\n",
              "          await google.colab.kernel.invokeFunction('convertToInteractive',\n",
              "                                                    [key], {});\n",
              "        if (!dataTable) return;\n",
              "\n",
              "        const docLinkHtml = 'Like what you see? Visit the ' +\n",
              "          '<a target=\"_blank\" href=https://colab.research.google.com/notebooks/data_table.ipynb>data table notebook</a>'\n",
              "          + ' to learn more about interactive tables.';\n",
              "        element.innerHTML = '';\n",
              "        dataTable['output_type'] = 'display_data';\n",
              "        await google.colab.output.renderOutput(dataTable, element);\n",
              "        const docLink = document.createElement('div');\n",
              "        docLink.innerHTML = docLinkHtml;\n",
              "        element.appendChild(docLink);\n",
              "      }\n",
              "    </script>\n",
              "  </div>\n",
              "\n",
              "\n",
              "<div id=\"df-06b11c7b-6f12-42d0-847e-845f6b7c9df7\">\n",
              "  <button class=\"colab-df-quickchart\" onclick=\"quickchart('df-06b11c7b-6f12-42d0-847e-845f6b7c9df7')\"\n",
              "            title=\"Suggest charts.\"\n",
              "            style=\"display:none;\">\n",
              "\n",
              "<svg xmlns=\"http://www.w3.org/2000/svg\" height=\"24px\"viewBox=\"0 0 24 24\"\n",
              "     width=\"24px\">\n",
              "    <g>\n",
              "        <path d=\"M19 3H5c-1.1 0-2 .9-2 2v14c0 1.1.9 2 2 2h14c1.1 0 2-.9 2-2V5c0-1.1-.9-2-2-2zM9 17H7v-7h2v7zm4 0h-2V7h2v10zm4 0h-2v-4h2v4z\"/>\n",
              "    </g>\n",
              "</svg>\n",
              "  </button>\n",
              "\n",
              "<style>\n",
              "  .colab-df-quickchart {\n",
              "    background-color: #E8F0FE;\n",
              "    border: none;\n",
              "    border-radius: 50%;\n",
              "    cursor: pointer;\n",
              "    display: none;\n",
              "    fill: #1967D2;\n",
              "    height: 32px;\n",
              "    padding: 0 0 0 0;\n",
              "    width: 32px;\n",
              "  }\n",
              "\n",
              "  .colab-df-quickchart:hover {\n",
              "    background-color: #E2EBFA;\n",
              "    box-shadow: 0px 1px 2px rgba(60, 64, 67, 0.3), 0px 1px 3px 1px rgba(60, 64, 67, 0.15);\n",
              "    fill: #174EA6;\n",
              "  }\n",
              "\n",
              "  [theme=dark] .colab-df-quickchart {\n",
              "    background-color: #3B4455;\n",
              "    fill: #D2E3FC;\n",
              "  }\n",
              "\n",
              "  [theme=dark] .colab-df-quickchart:hover {\n",
              "    background-color: #434B5C;\n",
              "    box-shadow: 0px 1px 3px 1px rgba(0, 0, 0, 0.15);\n",
              "    filter: drop-shadow(0px 1px 2px rgba(0, 0, 0, 0.3));\n",
              "    fill: #FFFFFF;\n",
              "  }\n",
              "</style>\n",
              "\n",
              "  <script>\n",
              "    async function quickchart(key) {\n",
              "      const charts = await google.colab.kernel.invokeFunction(\n",
              "          'suggestCharts', [key], {});\n",
              "    }\n",
              "    (() => {\n",
              "      let quickchartButtonEl =\n",
              "        document.querySelector('#df-06b11c7b-6f12-42d0-847e-845f6b7c9df7 button');\n",
              "      quickchartButtonEl.style.display =\n",
              "        google.colab.kernel.accessAllowed ? 'block' : 'none';\n",
              "    })();\n",
              "  </script>\n",
              "</div>\n",
              "    </div>\n",
              "  </div>\n"
            ]
          },
          "metadata": {},
          "execution_count": 2
        }
      ],
      "source": [
        "# load data\n",
        "url='https://drive.google.com/file/d/1SW1_vWBLd50COj4FbQdZenqAwA0nLDqC/view?usp=drive_link'\n",
        "url='https://drive.google.com/uc?id=' + url.split('/')[-2]\n",
        "\n",
        "df = pd.read_csv(url, sep=\"|\" )\n",
        "df.head()"
      ]
    },
    {
      "cell_type": "markdown",
      "metadata": {
        "id": "WiPLqvwXVIKP"
      },
      "source": [
        "El objetivo es tratar de obtener la mayor información posible de este conjunto de datos. Para cumplir este objetivo debe resolver las siguientes problemáticas:"
      ]
    },
    {
      "cell_type": "markdown",
      "metadata": {
        "id": "pXOB7nkeVIKQ"
      },
      "source": [
        "1.- ¿Cuál es el número de observaciones en el conjunto de datos?"
      ]
    },
    {
      "cell_type": "code",
      "execution_count": null,
      "metadata": {
        "id": "sMsSYArsVIKS",
        "colab": {
          "base_uri": "https://localhost:8080/"
        },
        "outputId": "77a66788-1411-48aa-8207-6e296963dfe6"
      },
      "outputs": [
        {
          "output_type": "stream",
          "name": "stdout",
          "text": [
            "El numero de observaciones es:943\n"
          ]
        }
      ],
      "source": [
        "num_fila = df.shape[0]\n",
        "print(\"El numero de observaciones es:\"+str(num_fila))"
      ]
    },
    {
      "cell_type": "markdown",
      "metadata": {
        "id": "nayVeZ88VIKU"
      },
      "source": [
        "2.- ¿Cuál es el número de columnas en el conjunto de datos?"
      ]
    },
    {
      "cell_type": "code",
      "execution_count": null,
      "metadata": {
        "id": "6KtsMAJgVIKW",
        "colab": {
          "base_uri": "https://localhost:8080/"
        },
        "outputId": "12d946df-fbc2-48de-a3b6-208c965f1d08"
      },
      "outputs": [
        {
          "output_type": "stream",
          "name": "stdout",
          "text": [
            "El numero de columnas es:5\n"
          ]
        }
      ],
      "source": [
        "num_columnas = df.shape[1]\n",
        "print(\"El numero de columnas es:\"+str(num_columnas))"
      ]
    },
    {
      "cell_type": "markdown",
      "metadata": {
        "id": "xfoBDnBvVIKX"
      },
      "source": [
        "3.- Imprime el nombre de todas las columnas"
      ]
    },
    {
      "cell_type": "code",
      "execution_count": null,
      "metadata": {
        "id": "mq5-ul-vVIKY",
        "colab": {
          "base_uri": "https://localhost:8080/"
        },
        "outputId": "88a50f36-127d-40cb-b122-53854e9f4b7d"
      },
      "outputs": [
        {
          "output_type": "stream",
          "name": "stdout",
          "text": [
            "Los nombres de las columnas son: \n",
            "\n",
            "user_id\n",
            "age\n",
            "gender\n",
            "occupation\n",
            "zip_code\n"
          ]
        }
      ],
      "source": [
        "columnas = df.columns.tolist()\n",
        "num = range(len(columnas))\n",
        "print(\"Los nombres de las columnas son: \\n\")\n",
        "for i in num:\n",
        "\tprint(columnas[i])"
      ]
    },
    {
      "cell_type": "markdown",
      "metadata": {
        "id": "W0iZc-wyVIKZ"
      },
      "source": [
        "4.- Imprima el índice del dataframe"
      ]
    },
    {
      "cell_type": "code",
      "execution_count": null,
      "metadata": {
        "id": "Veh2vfOVVIKa",
        "colab": {
          "base_uri": "https://localhost:8080/"
        },
        "outputId": "e688aac7-5b18-4326-a370-a68b346d01a9"
      },
      "outputs": [
        {
          "output_type": "stream",
          "name": "stdout",
          "text": [
            "El indice del dataframe es: RangeIndex(start=0, stop=943, step=1)\n"
          ]
        }
      ],
      "source": [
        "print(\"El indice del dataframe es: \"+str(df.index))"
      ]
    },
    {
      "cell_type": "markdown",
      "metadata": {
        "id": "cuFZQeN7VIKa"
      },
      "source": [
        "5.- ¿Cuál es el tipo de datos de cada columna?"
      ]
    },
    {
      "cell_type": "code",
      "execution_count": null,
      "metadata": {
        "id": "1W1ewZK4VIKb",
        "colab": {
          "base_uri": "https://localhost:8080/"
        },
        "outputId": "07c873fd-db6b-4662-bad5-c619ce5490aa"
      },
      "outputs": [
        {
          "output_type": "stream",
          "name": "stdout",
          "text": [
            "Los tipos de datos por columna son: \n",
            "\n",
            "user_id        int64\n",
            "age            int64\n",
            "gender        object\n",
            "occupation    object\n",
            "zip_code      object\n",
            "dtype: object\n"
          ]
        }
      ],
      "source": [
        "print(\"Los tipos de datos por columna son: \\n\")\n",
        "print(df.dtypes)"
      ]
    },
    {
      "cell_type": "markdown",
      "metadata": {
        "id": "6BgbB6rEVIKc"
      },
      "source": [
        "6.- Describir el conjunto de datos (**hint**: .describe())"
      ]
    },
    {
      "cell_type": "code",
      "execution_count": null,
      "metadata": {
        "id": "G6vOuNyHVIKc",
        "colab": {
          "base_uri": "https://localhost:8080/"
        },
        "outputId": "3ac6e974-612e-4a1d-dc03-d17e7f766066"
      },
      "outputs": [
        {
          "output_type": "stream",
          "name": "stdout",
          "text": [
            "          user_id         age\n",
            "count  943.000000  943.000000\n",
            "mean   472.000000   34.051962\n",
            "std    272.364951   12.192740\n",
            "min      1.000000    7.000000\n",
            "25%    236.500000   25.000000\n",
            "50%    472.000000   31.000000\n",
            "75%    707.500000   43.000000\n",
            "max    943.000000   73.000000\n"
          ]
        }
      ],
      "source": [
        "print(df.describe())"
      ]
    },
    {
      "cell_type": "markdown",
      "metadata": {
        "id": "J4ekPlRHVIKd"
      },
      "source": [
        "7.- Imprimir solo la columna de **occupation**."
      ]
    },
    {
      "cell_type": "code",
      "execution_count": null,
      "metadata": {
        "id": "Vff_6rxnVIKd",
        "colab": {
          "base_uri": "https://localhost:8080/"
        },
        "outputId": "b9cbe082-f0a0-4969-a76f-110e1f88dc09"
      },
      "outputs": [
        {
          "output_type": "stream",
          "name": "stdout",
          "text": [
            "La columna occupation es: \n",
            "\n",
            "0         technician\n",
            "1              other\n",
            "2             writer\n",
            "3         technician\n",
            "4              other\n",
            "           ...      \n",
            "938          student\n",
            "939    administrator\n",
            "940          student\n",
            "941        librarian\n",
            "942          student\n",
            "Name: occupation, Length: 943, dtype: object\n"
          ]
        }
      ],
      "source": [
        "print(\"La columna occupation es: \\n\")\n",
        "print(df[\"occupation\"])"
      ]
    },
    {
      "cell_type": "markdown",
      "metadata": {
        "id": "O0wziGFiVIKe"
      },
      "source": [
        "8.- ¿Cuántas ocupaciones diferentes hay en este conjunto de datos?"
      ]
    },
    {
      "cell_type": "code",
      "execution_count": null,
      "metadata": {
        "id": "b6_jECs8VIKe",
        "colab": {
          "base_uri": "https://localhost:8080/"
        },
        "outputId": "7dfa2f06-7414-4547-b612-a471a8b8cf5b"
      },
      "outputs": [
        {
          "output_type": "stream",
          "name": "stdout",
          "text": [
            "La cantidad de ocupaciones diferentes es: 21\n"
          ]
        }
      ],
      "source": [
        "ocupaciones = df[\"occupation\"].unique()\n",
        "print(\"La cantidad de ocupaciones diferentes es: \"+str(len(ocupaciones)))"
      ]
    },
    {
      "cell_type": "markdown",
      "metadata": {
        "id": "4Vqk55--VIKf"
      },
      "source": [
        "9.- ¿Cuál es la ocupación más frecuente?"
      ]
    },
    {
      "cell_type": "code",
      "execution_count": null,
      "metadata": {
        "id": "jffFT2YXVIKf",
        "colab": {
          "base_uri": "https://localhost:8080/"
        },
        "outputId": "b046274c-da81-45f1-ba4e-dc6c59d5dfd3"
      },
      "outputs": [
        {
          "output_type": "stream",
          "name": "stdout",
          "text": [
            "La ocupacion mas frecuente es: student\n"
          ]
        }
      ],
      "source": [
        "frecuencia = df[\"occupation\"].value_counts()\n",
        "print(\"La ocupacion mas frecuente es: \"+str(frecuencia.idxmax()))"
      ]
    },
    {
      "cell_type": "markdown",
      "metadata": {
        "id": "XQvVx_ncVIKg"
      },
      "source": [
        "10.- ¿Cuál es la edad media de los usuarios?"
      ]
    },
    {
      "cell_type": "code",
      "execution_count": null,
      "metadata": {
        "id": "okWhzl_nVIKg",
        "colab": {
          "base_uri": "https://localhost:8080/"
        },
        "outputId": "bec5cc26-8bb4-41e8-cef5-3385731a0b3a"
      },
      "outputs": [
        {
          "output_type": "stream",
          "name": "stdout",
          "text": [
            "La edad media de los usuarios es: 34\n"
          ]
        }
      ],
      "source": [
        "prom_edad = df[\"age\"].mean()\n",
        "print(\"La edad media de los usuarios es: \"+str(int(prom_edad)))"
      ]
    },
    {
      "cell_type": "markdown",
      "metadata": {
        "id": "wYNlWjz0VIKg"
      },
      "source": [
        "11.- ¿Cuál es la edad con menos ocurrencia?"
      ]
    },
    {
      "cell_type": "code",
      "execution_count": null,
      "metadata": {
        "id": "q1fVvtE3VIKh",
        "colab": {
          "base_uri": "https://localhost:8080/"
        },
        "outputId": "7ee8b406-9fd9-43bc-b222-fd2f6b94cc58"
      },
      "outputs": [
        {
          "output_type": "stream",
          "name": "stdout",
          "text": [
            "La edad menos ocurrente es: 7\n"
          ]
        }
      ],
      "source": [
        "f_edades = df[\"age\"].value_counts()\n",
        "print(\"La edad menos ocurrente es: \"+str(f_edades.idxmin()))"
      ]
    }
  ],
  "metadata": {
    "kernelspec": {
      "display_name": "Python 3 (ipykernel)",
      "language": "python",
      "name": "python3"
    },
    "language_info": {
      "codemirror_mode": {
        "name": "ipython",
        "version": 3
      },
      "file_extension": ".py",
      "mimetype": "text/x-python",
      "name": "python",
      "nbconvert_exporter": "python",
      "pygments_lexer": "ipython3",
      "version": "3.8.10"
    },
    "colab": {
      "provenance": []
    }
  },
  "nbformat": 4,
  "nbformat_minor": 0
}